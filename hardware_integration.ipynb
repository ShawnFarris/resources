{
 "cells": [
  {
   "cell_type": "markdown",
   "metadata": {},
   "source": [
    "# Fritz's notebook: Automatic measurements with amie "
   ]
  },
  {
   "cell_type": "markdown",
   "metadata": {},
   "source": [
    "Amie integrates fully in an automated experimental setup. Register through the (app.amie.ai) and get your API keys under 'setup' to log in. The garden contains all data that is accessible to you, so all your trees and leaves and the ones that are shared with you through a team. \n",
    "\n",
    "As with ```calibrate``` you can integrate documentation directly into the measurements functions. Fritz wrote the calibrate function to automatically call an instrument driver and then upload the parameteres and the calibration curves to amie."
   ]
  },
  {
   "cell_type": "code",
   "execution_count": null,
   "metadata": {
    "collapsed": true
   },
   "outputs": [],
   "source": [
    "import amieci\n",
    "import random\n",
    "import pandas as pd \n",
    "import numpy as np\n",
    "import matplotlib.pyplot as plt\n",
    "\n",
    "def calibrate(leaf, instrument):\n",
    "    calibration, plot = instrument.calibrate()\n",
    "    leaf.kvs.add_dict(calibration)\n",
    "    leaf.add_plot(calibration['instrument_name'] + '.png', \n",
    "                  plot, \n",
    "                  caption = calibration['instrument_name'] + '_calibration')\n",
    "    return leaf\n",
    "\n",
    "url = \"https://9453a694-bd17-412a-9c9b-staging.app.amie.ai/api\"\n",
    "url_local = \"http://localhost:8080/api\"\n",
    "\n",
    "garden = amieci.Garden(\"aaaaaa\", \"fritz@wine.com\", url)\n",
    "garden.load()"
   ]
  },
  {
   "cell_type": "markdown",
   "metadata": {},
   "source": [
    "## Day 1\n",
    "Here Fritz makes a new tree and adds a title and comment right in the notebook. He can change them later in the app.\n",
    "```garden.ct.```is the current tree."
   ]
  },
  {
   "cell_type": "code",
   "execution_count": null,
   "metadata": {
    "collapsed": true
   },
   "outputs": [],
   "source": [
    "tree = garden.new_tree()\n",
    "garden.ct.set_title(\"Chemical analysis of ranked wines\")\n",
    "garden.ct.set_description(\"\"\"I will first store the wine in the cellar with controlled temperature and humidity.\n",
    "                Both are read via an IoT device connected to amie. I measure alcohol content, sulfur, acidity and sugar. \n",
    "                First I have to calibrate all of them because they are probably wildly out of spec right now.\"\"\")\n",
    "garden.ct.save()"
   ]
  },
  {
   "cell_type": "markdown",
   "metadata": {},
   "source": [
    "Since the cellar IoT device is metadata in the experiments, Fritz adds the dictionary it returns as key value pairs to the leaf with ```.kvs.add_dict```.\n",
    "To have easy access to the leaf, he stores it in a variable with ```day1_leaf = garden.ct.cl```."
   ]
  },
  {
   "cell_type": "code",
   "execution_count": null,
   "metadata": {
    "collapsed": true
   },
   "outputs": [],
   "source": [
    "from instruments import CellarIoT\n",
    "\n",
    "garden.ct.new_leaf()\n",
    "garden.ct.cl.set_title(\"The condition in the cellar\")\n",
    "garden.ct.cl.set_description(\"\"\"The conditions in the cellar are tracked with and IoT device which gets periodically checked and read out when I call it\n",
    "                                I add the conditions every time I save data from now on.\"\"\")\n",
    "parameters = CellarIoT.measure()\n",
    "garden.ct.cl.kvs.add_dict(parameters)\n",
    "garden.ct.cl.save()\n",
    "day1_leaf = garden.ct.cl"
   ]
  },
  {
   "cell_type": "markdown",
   "metadata": {},
   "source": [
    "## Day 2\n",
    "Fritz runs 4 Calibration runs on the 4 instruments (connected to amie). Every measurement combines data from the instrument and the IoT device. ```calibrate()``` automatically adds data and the generated plots to amie."
   ]
  },
  {
   "cell_type": "code",
   "execution_count": null,
   "metadata": {
    "collapsed": true
   },
   "outputs": [],
   "source": [
    "from instruments import AlcoholTester, AcidTester, SulfurTester, SugarTester"
   ]
  },
  {
   "cell_type": "code",
   "execution_count": null,
   "metadata": {
    "collapsed": true
   },
   "outputs": [],
   "source": [
    "alc = garden.ct.new_leaf(parent=day1_leaf)\n",
    "alc.set_title(\"Alcohol calibration\")\n",
    "alc.set_description(\"A calibration run before we can test the real deal\")\n",
    "alc = calibrate(alc, AlcoholTester)\n",
    "alc.save()\n",
    "\n",
    "acid = garden.ct.new_leaf(parent=day1_leaf)\n",
    "acid.set_title(\"Acidity calibration\")\n",
    "acid.set_description(\"A calibration run before we can test the real deal\")\n",
    "acid = calibrate(acid, AcidTester)\n",
    "acid.save()\n",
    "\n",
    "sulfur = garden.ct.new_leaf(parent=day1_leaf)\n",
    "sulfur.set_title(\"Sulfur calibration\")\n",
    "sulfur.set_description(\"A calibration run before we can test the real deal\")\n",
    "sulfur = calibrate(sulfur, SulfurTester)\n",
    "sulfur.save()\n",
    "\n",
    "sugar = garden.ct.new_leaf(parent=day1_leaf)\n",
    "sugar.set_title(\"Sugar calibration\")\n",
    "sugar.set_description(\"A calibration run before we can test the real deal\")\n",
    "sugar = calibrate(sugar, SugarTester)\n",
    "sugar.save()"
   ]
  },
  {
   "cell_type": "markdown",
   "metadata": {},
   "source": [
    "## Day 3\n",
    "Fritz sets up a longer measurement. Data, plots, metadata and his comments are automatically added to amie. Once the measurement runs the can check in the app, from home or on his phone how things are going. He sets it up to run completely from the python client, but he could also add his comments and thoughts in the app later."
   ]
  },
  {
   "cell_type": "code",
   "execution_count": null,
   "metadata": {
    "collapsed": true
   },
   "outputs": [],
   "source": [
    "parameters = {'frequency':'9' ,'sensitivity':'13', 'automatic' : 'True'}\n",
    "data, fig = AlcoholTester.measure(parameters)\n",
    "alc = garden.ct.new_leaf(parent=alc)\n",
    "alc.set_title(\"Alcohol measurement\")\n",
    "alc.set_description(\"\"\"Testing Francesca's wine samples for their alcohol content.  Testing with #instrument_name acli_top_100# a hygrometer:\\n\n",
    "                        1. Clean all glassware; cylinder and mixing beacons\n",
    "                        2. Heat to #temperature 20#.\n",
    "                        3. Set #automatic True#, because it's well calibrated.\n",
    "                        4. Pour 100 ml and let stand for 20 min\n",
    "                        5. Set #mass_constant 30#\n",
    "                        6. Adjust #flow 231#\n",
    "                        7. Load the sample, press start\n",
    "                        8. Done! \\n\n",
    "                        See $Img 1$ for the plots and $Data 2$ for the file.\"\"\")\n",
    "alc.kvs.add_dict(CellarIoT.measure())\n",
    "alc.kvs.add_dict(parameters)\n",
    "alc.add_plot('alcohol.png', fig, caption = 'Alcohol measurement')\n",
    "alc.add_data('alcohol.csv', bytes(data, 'utf-8'), caption = 'Alcohol measurement')\n",
    "alc.save()\n",
    "\n",
    "parameters = {'frequency':'13' ,'sensitivity':'30', 'automatic' : 'True'}\n",
    "data, fig = AcidTester.measure(parameters)\n",
    "acid = garden.ct.new_leaf(parent=acid)\n",
    "acid.set_title(\"Acidity measurement\")\n",
    "acid.set_description(\"\"\"Testing Francesca's wine samples for their acidity. We will test for fixed acidity,\n",
    "                        volatile acidity, citric acids and pH with #instrument_name sweet_and_sour-334# :\\n\n",
    "                        1. Clean all the glassware\n",
    "                        2. Dilute the samples with distilled water.\n",
    "                        3. Start pumping down.\n",
    "                        4. Set #automatic True#, because it's well calibrated.\n",
    "                        5. Once the setup is pumped down, start the heater.\n",
    "                        6. Spin at #rate 3000#\n",
    "                        7. 5nmofNi of Ge XXXV nm sollicitatur\n",
    "                        9. Load the sample\n",
    "                        10. Done! \\n\n",
    "                        See $Img 1$ for the plots and $Data 2$ for the file.\"\"\")\n",
    "acid.kvs.add_dict(CellarIoT.measure())\n",
    "acid.kvs.add_dict(parameters)\n",
    "acid.add_plot('acid.png', fig, caption = 'Acidity measurement')\n",
    "acid.add_data('acid.csv', bytes(data, 'utf-8'), caption = 'Acidity measurement')\n",
    "acid.save()\n",
    "\n",
    "parameters = {'frequency': 70 ,'sensitivity': 10, 'automatic' : 'True', 'temperature_offset' : 0}\n",
    "data, fig = SulfurTester.measure(parameters)\n",
    "sulfur = garden.ct.new_leaf(parent=sulfur)\n",
    "sulfur.set_title(\"Sulfur measurement\")\n",
    "sulfur.set_description(\"\"\"Testing Francesca's wine samples for their sulfur content.  Testing with #instrument_name sulfi-20#.\n",
    "                        We teset for free sulfur dioxide, totla sulfur and sulphates\\n\n",
    "                        1. Clean all glassware.\n",
    "                        2. Cool to #temperature 10#.\n",
    "                        3. Set #mass_constant 30#\n",
    "                        4. Set #automatic True#, and #temperature_offset 0#, because it's well calibrated.\n",
    "                        4. Pour 100 ml and let stand for 20 min \\n\n",
    "                        5. Set #sensitivity 10#.\n",
    "                        6. Set #resolution 20#, there is plenty of sample and it shouldn't take all night. \n",
    "                        6. Adjust #flow 231#. \n",
    "                        7. Load the sample, press start.\n",
    "                        8. Done! \\n\n",
    "                        See $Img 1$ for the plots and $Data 2$ for the file.\"\"\")\n",
    "sulfur.kvs.add_dict(CellarIoT.measure())\n",
    "sulfur.kvs.add_dict(parameters)\n",
    "sulfur.add_plot('sulfur.png', fig, caption='Sulfur mesurement')\n",
    "sulfur.add_data('sulfur.csv', bytes(data, 'utf-8'), caption = 'Sulfur measurement')\n",
    "sulfur.save()\n",
    "\n",
    "parameters = {'frequency':'43' ,'sensitivity':'9', 'automatic' : 'True'}\n",
    "data, fig = SugarTester.measure(parameters)\n",
    "sugar = garden.ct.new_leaf(parent=sugar)\n",
    "sugar.set_title(\"Sugar measurement\")\n",
    "sugar.set_description(\"\"\"Testing Francesca's wine samples for their sugar content.  Testing with #instrument_name KK-20#.\n",
    "                        We test for residual sugar, total sulfur, and sulfates. \\n\n",
    "                        1. Clean all glassware;\n",
    "                        2. Cool to #temperature 10#.\n",
    "                        3. Set #mass_constant 30#\n",
    "                        4. Set #automatic True# because it's well calibrated.\n",
    "                        5. Adjust #inlet_pressure 1040# and let it stand for a while.\n",
    "                        6. Set #frequency 43#\n",
    "                        6. Adjust #flow 231#\n",
    "                        7. Check for #outlet_pressure 330#.\n",
    "                        8. Load the sample and press start. Done! \\n\n",
    "                        See $Img 1$ for the plots and $Data 2$ for the file.\"\"\")\n",
    "sugar.kvs.add_dict(CellarIoT.measure())\n",
    "sugar.kvs.add_dict(parameters)\n",
    "sugar.add_plot('sugar.png', fig, caption = 'Sugar measurement')\n",
    "sugar.add_data('sugar.csv', bytes(data, 'utf-8'), caption = 'Sugar measurement')\n",
    "sugar.save()"
   ]
  },
  {
   "cell_type": "markdown",
   "metadata": {},
   "source": [
    "## Day 20 \n",
    "Some sample 🍷 is gone, and it turns out that there has been a mistake. Fritz can see in data scientist Anders' analysis in the app why there might have been a mistake. He identifies the mistake by plotting his previous measurement parameters right in the app and spots that there might have been a problem with the cellar temperature in one of the measurements."
   ]
  },
  {
   "cell_type": "code",
   "execution_count": null,
   "metadata": {
    "collapsed": true
   },
   "outputs": [],
   "source": [
    "import amieci\n",
    "import random\n",
    "import pandas as pd \n",
    "%reload_ext autoreload\n",
    "%autoreload 2\n",
    "garden = amieci.Garden(\"aaaaaa\", \"fritz@wine.com\", url)\n",
    "garden.load()"
   ]
  },
  {
   "cell_type": "markdown",
   "metadata": {},
   "source": [
    "He logs in again and loads his garden to pick up from where he has left off. To add the re-done measurement to the right leaf, he grabs its ID from the app and loads it into a variable."
   ]
  },
  {
   "cell_type": "code",
   "execution_count": null,
   "metadata": {
    "collapsed": true
   },
   "outputs": [],
   "source": [
    "garden.set_cl('79a9f727-909e-4429-a29c-5e4e366ccdae')\n",
    "sulfur = garden.ct.cl"
   ]
  },
  {
   "cell_type": "code",
   "execution_count": null,
   "metadata": {
    "collapsed": true
   },
   "outputs": [],
   "source": [
    "parameters = {'frequency':'43' ,'sensitivity':'9', 'automatic' : 'True', 'temperature_offset' : 'auto',\n",
    "             'resolution' : '60'}\n",
    "data, fig = SulfurTester.measure(parameters)\n",
    "sulfur = garden.ct.new_leaf(parent=sulfur)\n",
    "sulfur.set_title(\"Re-do the sulfur measurement\")\n",
    "sulfur.set_description(\"\"\"I have to re-test for sulfur. Luckily there is still some 🍷 left. See $Img 1$ for the plots and $Data 2$ for the file.\n",
    "                        I found some cellar temperature irregularities which most likely messed everything up.\n",
    "                        Again Testing with #instrument_name sulfi-20#. This time with #resolution 60# and #temperature_offset auto# to make sure it compensates for a change since calibration.\n",
    "                        We tested for free sulfur dioxide, total sulfur and sulfates.\n",
    "                        1. Clean all glassware.\n",
    "                        2. Cool to #temperature 10#.\n",
    "                        3. Set #mass_constant 30#\n",
    "                        4. Set #automatic True#, and #temperature_offset auto#, because it's maybe not so well calibrated.\n",
    "                        4. Pour 100 ml and let stand for 20 min.\n",
    "                        5. Set #sensitivity 10#.\n",
    "                        6. Set #resolution 60# to get it right this time. \n",
    "                        6. Adjust #flow 231#. \n",
    "                        7. Load the sample, press start.\n",
    "                        8. Done!\"\"\")\n",
    "\n",
    "sulfur.kvs.add_dict(CellarIoT.measure())\n",
    "sulfur.kvs.add_dict(parameters)\n",
    "sulfur.add_plot('sulfur.png', fig, caption='Sulfur mesurement')\n",
    "sulfur.add_data('new_sulfur.csv', bytes(data, 'utf-8'), caption='new_sulfur')\n",
    "sulfur.save()\n",
    "sulfur = garden.ct.cl"
   ]
  }
 ],
 "metadata": {
  "kernelspec": {
   "display_name": "Python 3",
   "language": "python",
   "name": "python3"
  },
  "language_info": {
   "codemirror_mode": {
    "name": "ipython",
    "version": 3
   },
   "file_extension": ".py",
   "mimetype": "text/x-python",
   "name": "python",
   "nbconvert_exporter": "python",
   "pygments_lexer": "ipython3",
   "version": "3.6.5"
  }
 },
 "nbformat": 4,
 "nbformat_minor": 2
}
